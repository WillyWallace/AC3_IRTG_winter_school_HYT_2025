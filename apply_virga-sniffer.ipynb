{
 "cells": [
  {
   "cell_type": "markdown",
   "id": "ca934aaa-c5b1-4efd-89f5-38c0a7fd5e4a",
   "metadata": {},
   "source": [
    "# Application of the Virga Sniffer\n",
    "\n",
    "The Virga-Sniffer is a tool to detect virga (precipitation which completely evaporates before reaching the surface). As input source radar reflectivity and ceilometer cloud-base height observations are mandatory. Optionally but highly recommended are the additional information of radar mean Doppler velocity, lifting condensation level and surface rain detection.  \n",
    "\n",
    "Virga sniffer documentation: https://virga-sniffer.readthedocs.io/en/latest/index.html\n",
    "\n",
    "Virga sniffer code on github: https://github.com/remsens-lim/virga_sniffer/tree/main\n",
    "\n",
    "Virga sniffer paper: https://amt.copernicus.org/articles/16/1683/2023/amt-16-1683-2023.html"
   ]
  },
  {
   "cell_type": "markdown",
   "id": "106919d5-4103-4715-8c26-b81c95b92530",
   "metadata": {
    "editable": true,
    "slideshow": {
     "slide_type": ""
    },
    "tags": []
   },
   "source": [
    "## Install and import required packages\n",
    "\n",
    "Supporting routines for reading and so are in the utils file.\n",
    "\n",
    "Installation of the virga-sniffer via:  \n",
    "python -m pip install git+https://github.com/remsens-lim/virga_sniffer.git#egg=virga_sniffer"
   ]
  },
  {
   "cell_type": "code",
   "execution_count": null,
   "id": "d016e2b9-2cfc-447c-843b-d403541a700c",
   "metadata": {},
   "outputs": [],
   "source": [
    "import xarray as xr\n",
    "import numpy as np\n",
    "from virga_sniffer import virga_mask as mvirga\n",
    "import pandas as pd\n",
    "import matplotlib.pyplot as plt\n",
    "import os\n",
    "import requests\n",
    "#import json\n",
    "\n",
    "import utils\n",
    "\n",
    "#from virga_sniffer.utils import calc_lcl\n",
    "#import metpy\n",
    "#import datetime\n",
    "#import matplotlib.colors as mcolors\n",
    "#from matplotlib.colors import BoundaryNorm\n",
    "import glob\n",
    "\n",
    "#import numpy.ma as ma\n"
   ]
  },
  {
   "cell_type": "markdown",
   "id": "853f74fc-0ca4-456f-a5cb-830bb3c29ef2",
   "metadata": {},
   "source": [
    "## Define paths"
   ]
  },
  {
   "cell_type": "code",
   "execution_count": null,
   "id": "a0441f3c-4bd3-4c0c-946f-98619bc3e1b9",
   "metadata": {},
   "outputs": [],
   "source": [
    "paths = {\n",
    "    'categorize': '/projekt1/remsens/work/afoth/winter_school_HYT_2025/data/',\n",
    "    #'classification': '/projekt1/remsens/work/afoth/winter_school_HYT_2025/data/',\n",
    "    'vs_data': '/projekt1/remsens/work/afoth/winter_school_HYT_2025/vs_data/',\n",
    "    'vs_ql': '/projekt1/remsens/work/afoth/winter_school_HYT_2025/vs_plots/',\n",
    "    'data_collection': '/projekt1/remsens/work/afoth/winter_school_HYT_2025/data_collection/'\n",
    "}"
   ]
  },
  {
   "cell_type": "markdown",
   "id": "8aa56024-a99e-4a70-85da-08175a9e1a36",
   "metadata": {},
   "source": [
    "## Prepare folder structure \n",
    "\n",
    "Prepare the folder structure by the following python script such that the structure looks like:\n",
    "\n",
    "```\n",
    "project  # winter_school_HYT_2025\n",
    "│   apply_virga-sniffer.ipynb    \n",
    "│\n",
    "└───data\n",
    "│   │   yyyymmdd_hyytiala_categorize.nc\n",
    "│   │   ...\n",
    "|\n",
    "└───vs_data\n",
    "│   │   ...\n",
    "|\n",
    "└───vs_plots\n",
    "│   │   ...\n",
    "|\n",
    "└───data_collection  # data from the others in the course\n",
    "    │   ...\n",
    "```"
   ]
  },
  {
   "cell_type": "code",
   "execution_count": null,
   "id": "e47737eb-3fd6-4bd1-b9e1-10e39cbb7bc4",
   "metadata": {},
   "outputs": [],
   "source": [
    "for path in paths:\n",
    "    if not os.path.exists(paths[path]):\n",
    "        os.makedirs(paths[path])"
   ]
  },
  {
   "cell_type": "markdown",
   "id": "e3cf70e7-2eca-4fa8-b87e-bcc67a8492c2",
   "metadata": {},
   "source": [
    "## Interisting dates\n",
    "\n",
    "from cloudnet quiicklook:\n",
    "- 2024-02-04\n",
    "- 2024-02-05\n",
    "- 2024-02-06\n",
    "- 2024-02-07\n",
    "- 2024-02-11\n",
    "- 2024-02-13\n",
    "- 2024-02-14"
   ]
  },
  {
   "cell_type": "markdown",
   "id": "b1ce5d35-7173-488d-90e7-85c28d38ad54",
   "metadata": {},
   "source": [
    "## Define the date range to process"
   ]
  },
  {
   "cell_type": "code",
   "execution_count": null,
   "id": "17bc573f-c681-4bc4-a54b-df1481849145",
   "metadata": {},
   "outputs": [],
   "source": [
    "date_start = '2024-02-04'\n",
    "date_end = '2024-02-07'\n",
    "\n",
    "date_range = pd.date_range(start=date_start,end=date_end).strftime(\"%Y-%m-%d\")"
   ]
  },
  {
   "cell_type": "markdown",
   "id": "db2b0d0d-601f-46a4-87cb-0afbf42be675",
   "metadata": {},
   "source": [
    "## Download required data\n",
    "\n",
    "Download required data. In this case, these are only the categorize files for the specified days."
   ]
  },
  {
   "cell_type": "code",
   "execution_count": null,
   "id": "c95709a1-d991-46ca-9160-2b962aeba8b9",
   "metadata": {},
   "outputs": [],
   "source": [
    "utils.download_cloudnet_categorize(date_start, date_end, paths)\n"
   ]
  },
  {
   "cell_type": "markdown",
   "id": "688e8f32-6062-4cb1-9f4d-fe3670dc0ff7",
   "metadata": {},
   "source": [
    "## Meta data and configs\n",
    "\n",
    "Here you find all infomration needed for the configuration: https://virga-sniffer.readthedocs.io/en/latest/config.html\n",
    "\n",
    "default values: **default was optimized for subtropical Atlantic**  \n",
    "```python\n",
    "DEFAULT_CONFIG = dict(  \n",
    "    smooth_window_cbh=60,  # [s] smoothing of CBH  \n",
    "    smooth_window_lcl=300,  # [s] smoothing of LCL if provided  \n",
    "    require_cbh=True,  # need a cloud base to be considered as virga?  \n",
    "    mask_rain=True,  # apply rain mask from ancillary data?  \n",
    "    mask_rain_ze=True,  # apply rain mask from radar signal?  \n",
    "    ze_thres=0,  # [dBz] minimum Radar signal at lowest range-gate which is considered rain  \n",
    "    ignore_virga_gaps=True,  # ignore gaps in virga when masking, if False, no virga after first gap (top-down)  \n",
    "    minimum_rangegate_number=2,  # minimum number of range-gates in column to be considered virga  \n",
    "    mask_vel=True,  # apply velocity mask ?  \n",
    "    vel_thres=0,  # [ms-1] velocity threshold  \n",
    "    mask_clutter=True,  # apply clutter threshold line ?  \n",
    "    clutter_c=-8,  # [ms-1] intercept of clutter threshold line  \n",
    "    clutter_m=4,  # [ms-1 dBz-1] slope of clutter threshold line  \n",
    "    layer_threshold=500,  # [m] cbh layer separation  \n",
    "    cloud_max_gap=150,  # [m] maximum gap between virga signal to count as connected virga and for clouds to cloud base  \n",
    "    clean_threshold=0.05,  # [0-1] remove cbh layer if below (clean_treshold*100)% of total data  \n",
    "    cbh_layer_fill=True,  # fill gaps of cbh layer?  \n",
    "    cbh_fill_method='slinear',  # fill method of cbh layer gaps  \n",
    "    layer_fill_limit=60,  # [s] fill gaps of cbh layer with this gap limit  \n",
    "    cbh_ident_function=[1, 0, 2, 0, 3, 1, 0, 2, 0, 3, 4])  # order of operations applied to cbh: 0-clean, 1-split, 2-merge, 3-add-LCL, 4 smooth  \n",
    "```"
   ]
  },
  {
   "cell_type": "code",
   "execution_count": null,
   "id": "0854e4bd-ff59-44ce-b35d-c102ce5f3ae3",
   "metadata": {},
   "outputs": [],
   "source": [
    "#site_meta = {'name': 'Hyytiälä', 'altitude': 150}\n",
    "\n",
    "name = 'Andreas'\n",
    "\n",
    "config = {\n",
    "    \"require_cbh\": True,\n",
    "    \"mask_vel\": True,\n",
    "    \"mask_clutter\": True,\n",
    "    \"mask_rain\": True,\n",
    "    #\"mask_rain_ze\": False,\n",
    "    \"minimum_rangegate_number\": 4,\n",
    "    \"cloud_max_gap\": 150,\n",
    "    \"precip_max_gap\": 500,\n",
    "    #\"vel_thres\": 2,\n",
    "    #\"ze_thres\": 0,\n",
    "    \"clutter_c\": -8,\n",
    "    \"clutter_m\": 4,\n",
    "    \"cbh_smooth_window\": 600,\n",
    "    #\"lcl_replace_cbh\": False,\n",
    "    #\"lcl_smooth_window\": 300,\n",
    "    \"cbh_layer_thres\": 500,\n",
    "    \"cbh_connect2top\": False,\n",
    "    #\"cbh_clean_thres\": 0.025,\n",
    "    \"cbh_fill_method\": \"slinear\",\n",
    "    \"cbh_fill_limit\": 300,\n",
    "    \"cbh_processing\": [1, 0, 2, 0, 1, 0, 2, 0, 4]\n",
    "}"
   ]
  },
  {
   "cell_type": "markdown",
   "id": "d07ab255-082d-4c52-8c44-7fcd18b164d8",
   "metadata": {},
   "source": [
    "## Define input data and run virga sniffer\n",
    "\n",
    "radar reflectivity and Doppler velocities from cloudnet categorize and liquid layer base determined from target classification\n",
    "\n",
    "Set **h_bottom = 1**, if the **lowest radar range gate is empty**, as it is the case here for the Hyytiälä radar. The rain mask will not work in case of an empty lowest radar range gate."
   ]
  },
  {
   "cell_type": "code",
   "execution_count": null,
   "id": "3baa5571-3a77-4016-8bd6-45d7bb5898d5",
   "metadata": {},
   "outputs": [],
   "source": [
    "for date in date_range:\n",
    "    print(date)\n",
    "\n",
    "    #try:\n",
    "    #ceilo_dat = proc_ceilo(date, paths, site_meta)\n",
    "    h_bottom = 1  # lowest radar range gate with values\n",
    "    categ = utils.proc_categ(date, paths).isel(height=slice(h_bottom, -1))\n",
    "    #classi = proc_class(date, paths).isel(height=slice(h_bottom, -1))\n",
    "\n",
    "    # liquid containing layer base height from cloudnet target classifiaction\n",
    "    lcbh = utils.find_lowest_liquid_containing_layer_height(categ)\n",
    "\n",
    "    # wind from ECMWF (within categorize)\n",
    "    #uwind = categ.uwind.interp(model_time=categ.time, model_height=categ.height)\n",
    "    #vwind = categ.vwind.interp(model_time=categ.time, model_height=categ.height)\n",
    "\n",
    "    # surface rain flag from Parsivel2 stored in categorize data\n",
    "    flag_rain_ground = categ.rain_detected.rolling(time=5, center=False).max() > 0\n",
    "    #flag_rain_ground = categ.rainfall_rate > 0\n",
    "\n",
    "    time = categ.time\n",
    "    height = categ.height\n",
    "    \n",
    "    # Preparing the Input\n",
    "    input_ds = xr.Dataset(\n",
    "        {\n",
    "          \"Ze\": (('time', 'range'), categ.Z.data),\n",
    "          # cloud_base data needs two dimensions, even if its only one layer\n",
    "          \"cloud_base_height\": (('time', 'layer'), np.array(lcbh.data)[:, np.newaxis]),\n",
    "          \"flag_surface_rain\": (('time'), flag_rain_ground.data),\n",
    "          \"vel\": (('time', 'range'), categ.v.data),\n",
    "          #\"category_bit\": (('time', 'range'), categ.category_bits.data),\n",
    "          #\"target_classification\": (('time', 'range'), classi.target_classification.data),\n",
    "          #\"uwind\": (('time', 'range'), uwind.data),\n",
    "          #\"vwind\": (('time', 'range'), vwind.data),\n",
    "       },\n",
    "       coords={\n",
    "          \"time\": ('time', time.data),\n",
    "          \"range\": ('range', height.data),\n",
    "          \"layer\": ('layer', [0])\n",
    "       }\n",
    "    )\n",
    "\n",
    "    # Restrict plots to 'time_step' hours\n",
    "    time_step = 24\n",
    "    for dtime in range(0,24,time_step):\n",
    "\n",
    "        dsp = input_ds.sel(time = slice(np.datetime64(date)+np.timedelta64(dtime,'h'),\n",
    "                                     np.datetime64(date)+np.timedelta64(dtime+time_step,'h')))\n",
    "        #print(config)\n",
    "        dsout = mvirga(dsp, config)\n",
    "                \n",
    "        year, month, day = utils.date2filestring(date)\n",
    "\n",
    "        # save vs output file\n",
    "        dsout.to_netcdf(paths['vs_data'] + '/' + year + month + day + str(dtime).zfill(2) + \"_virga-sniffer-hyt.nc\")\n",
    "        \n",
    "        # plot vs\n",
    "        fig, axs, aaa = dsout.vsplot.quicklook_full(radar='JOYRAD-94')\n",
    "        fig.savefig(paths['vs_ql'] + '/'  + year + month + day + str(dtime).zfill(2) + \"_ql\",dpi=100)\n",
    "        "
   ]
  },
  {
   "cell_type": "markdown",
   "id": "315a514d-429b-4842-bf0a-4e514bb0ade6",
   "metadata": {},
   "source": [
    "display virga sniffer output file"
   ]
  },
  {
   "cell_type": "code",
   "execution_count": null,
   "id": "d59720c9-6ab8-444c-9eb3-bf31cbbbff0f",
   "metadata": {
    "editable": true,
    "slideshow": {
     "slide_type": ""
    },
    "tags": []
   },
   "outputs": [],
   "source": [
    "dsout"
   ]
  },
  {
   "cell_type": "markdown",
   "id": "5fae7248-4c4c-41ee-8341-c9c2951260a8",
   "metadata": {},
   "source": [
    "# Get statistics from the virga-sniffer output\n",
    "\n",
    "## Merge single files"
   ]
  },
  {
   "cell_type": "markdown",
   "id": "284bb7af-9524-4253-8b98-b02050d0d7e2",
   "metadata": {},
   "source": [
    "Please check beforehand that you do not enter some time steps twice if, for example, there is a file with 24 hours and 8 with three hours each in your folder because you have tried different time steps.  \n",
    "**Solutions:**\n",
    "- delete old files\n",
    "- use file naming patterns below "
   ]
  },
  {
   "cell_type": "code",
   "execution_count": null,
   "id": "a223379f-d030-420c-878e-2fc539f44a50",
   "metadata": {},
   "outputs": [],
   "source": [
    "file_list = sorted(glob.glob(paths['vs_data'] + \"202402*00_virga-sniffer-hyt.nc\"))\n",
    "\n",
    "data_int_all = []\n",
    "for vs_file in file_list:\n",
    "    data_int = xr.open_dataset(vs_file)\n",
    "    data_int_all.append(data_int)\n",
    "\n",
    "data_all = xr.concat(data_int_all, dim='time')"
   ]
  },
  {
   "cell_type": "markdown",
   "id": "ad8d0452-da5d-4bb3-b3b8-bc8fe2cfa52d",
   "metadata": {},
   "source": [
    "Add your name as a variable so that we can merge everyone's files later and the individual files can be accessed as a dimension."
   ]
  },
  {
   "cell_type": "code",
   "execution_count": null,
   "id": "5d70f3a7-6b85-44ec-972e-6ff1d6c2c278",
   "metadata": {},
   "outputs": [],
   "source": [
    "data_all['name'] = name"
   ]
  },
  {
   "cell_type": "markdown",
   "id": "d65bc53c-843f-4da7-b0ac-9b33416e6778",
   "metadata": {},
   "source": [
    "Write data which includes all processed days into the data_collection folder"
   ]
  },
  {
   "cell_type": "code",
   "execution_count": null,
   "id": "789505db-5263-4ef9-afb5-6b1a7b48dffc",
   "metadata": {},
   "outputs": [],
   "source": [
    "data_all.to_netcdf(paths['data_collection'] + 'virga_sniffer_data_' + str(data_all['name'].values) + '.nc')"
   ]
  },
  {
   "cell_type": "markdown",
   "id": "a661cc8b-7416-4bd8-ab0e-1afd064b3df5",
   "metadata": {},
   "source": [
    "## Virga fraction"
   ]
  },
  {
   "cell_type": "code",
   "execution_count": null,
   "id": "27acfa3a-ba92-4c1f-bd05-1b774937ab82",
   "metadata": {},
   "outputs": [],
   "source": [
    "print(str(int(data_all['flag_virga_layer'].isel(layer=0).sum().item())) + ' number of time steps with detected virga in the lowest layer')\n",
    "print(str(int(data_all['flag_precip_layer'].isel(layer=0).sum().item())) + ' number of time steps with detected precipitation in the lowest layer')\n",
    "print(str(data_all['flag_surface_rain'].sum().item()) + ' number of time steps with surface precipitation')"
   ]
  },
  {
   "cell_type": "code",
   "execution_count": null,
   "id": "ee67fff2-ba12-4860-9531-b1c9ba74aec8",
   "metadata": {},
   "outputs": [],
   "source": [
    "print('Virga fraction')\n",
    "print(data_all['flag_virga_layer'].isel(layer=0).sum().item()/data_all['flag_precip_layer'].isel(layer=0).sum().item())"
   ]
  },
  {
   "cell_type": "markdown",
   "id": "ba71a4c9-229f-4e46-9700-2630b7687984",
   "metadata": {},
   "source": [
    "## Virga depth"
   ]
  },
  {
   "cell_type": "code",
   "execution_count": null,
   "id": "07af5d08-1c31-4733-a0fd-e244d8275657",
   "metadata": {},
   "outputs": [],
   "source": [
    "bins = np.arange(0,3000, 100)\n",
    "\n",
    "data_all.isel(layer=0).virga_depth.plot.hist(bins=bins, histtype='step', lw=2)\n",
    "data_all.isel(layer=1).virga_depth.plot.hist(bins=bins, histtype='step', lw=2)\n",
    "data_all.isel(layer=2).virga_depth.plot.hist(bins=bins, histtype='step', lw=2)"
   ]
  },
  {
   "cell_type": "markdown",
   "id": "79acd2f9-92aa-4e25-92a7-6dee9ccffe62",
   "metadata": {},
   "source": [
    "# Merge Virga sniffer files from the entire course"
   ]
  },
  {
   "cell_type": "markdown",
   "id": "584eb90f-a120-4673-b963-a5d4cd4bad76",
   "metadata": {},
   "source": [
    "At this point it is necessary to share your virga_sniffer_data_[name].nc file with the other. \n",
    "\n",
    "**I NEED TO FIND A SOLUTION FOR DATA SHARING. MAYBE A FOLDER ON OUR SPECIHERWOLKE**"
   ]
  },
  {
   "cell_type": "code",
   "execution_count": null,
   "id": "32c97296-77f1-41fd-b7f5-c052a3b1e314",
   "metadata": {},
   "outputs": [],
   "source": [
    "file_list = glob.glob(paths['data_collection'] + 'virga_sniffer_data_*.nc')\n",
    "\n",
    "data_all_course_list = []\n",
    "\n",
    "for file in file_list:\n",
    "    data_all_course_list.append(xr.open_dataset(file))"
   ]
  },
  {
   "cell_type": "code",
   "execution_count": null,
   "id": "28d10312-67fe-4d75-9933-e10969cf788e",
   "metadata": {},
   "outputs": [],
   "source": [
    "data_all_course = xr.concat(data_all_course_list, dim='name')"
   ]
  },
  {
   "cell_type": "markdown",
   "id": "e0e1307d-4103-4e16-b4a4-3f505ca31841",
   "metadata": {},
   "source": [
    "display data"
   ]
  },
  {
   "cell_type": "code",
   "execution_count": null,
   "id": "7adca67d-f78b-4359-802a-efe08909a4c9",
   "metadata": {},
   "outputs": [],
   "source": [
    "data_all_course"
   ]
  },
  {
   "cell_type": "code",
   "execution_count": null,
   "id": "5f6af1ae-d633-42af-a42b-11c4aa7bec3d",
   "metadata": {},
   "outputs": [],
   "source": [
    "for i, i_name in enumerate(data_all_course['name']):\n",
    "    data_all_course.isel(layer=0, name=i).virga_depth.plot.hist(bins=bins, histtype='step', lw=2, label=i_name)\n",
    "plt.legend(frameon=False)\n"
   ]
  },
  {
   "cell_type": "code",
   "execution_count": null,
   "id": "c6d75039-e2c9-4926-b6b9-b330ca646fe3",
   "metadata": {},
   "outputs": [],
   "source": [
    "for i, i_name in enumerate(data_all_course['name']):\n",
    "    data = {\n",
    "        'Name': str(i_name.values),\n",
    "        'Number of virga': [data_all_course['flag_virga_layer'].isel(layer=0, name=i).sum().item()],\n",
    "        'Number of precipation': [data_all_course['flag_precip_layer'].isel(layer=0, name=i).sum().item()], \n",
    "        'Number of surface precip': [data_all_course['flag_surface_rain'].isel(name=i).sum().item()], \n",
    "        'Virga fraction': data_all_course['flag_virga_layer'].isel(layer=0, name=i).sum().item() / data_all_course['flag_precip_layer'].isel(layer=0, name=i).sum().item()\n",
    "    }\n",
    "\n",
    "df_numbers = pd.DataFrame(data)\n"
   ]
  },
  {
   "cell_type": "code",
   "execution_count": null,
   "id": "e2a4c865-b870-4a07-a156-f438ef8a4aa1",
   "metadata": {},
   "outputs": [],
   "source": [
    "df_numbers"
   ]
  },
  {
   "cell_type": "code",
   "execution_count": null,
   "id": "b4e4ac3c-bf82-4b9d-81a1-0e9595731762",
   "metadata": {},
   "outputs": [],
   "source": [
    "df_numbers.describe()"
   ]
  },
  {
   "cell_type": "markdown",
   "id": "15685a77-3c6e-401a-856e-2ad67ffaf73c",
   "metadata": {},
   "source": []
  },
  {
   "cell_type": "raw",
   "id": "e29f503b-cfd0-4198-b53c-094935f1dc20",
   "metadata": {},
   "source": []
  },
  {
   "cell_type": "markdown",
   "id": "6a724484-a9b8-45cd-89be-4e5fd24a6db6",
   "metadata": {},
   "source": [
    "## Comparison of configurations\n",
    "\n",
    "- prepare and save the config file in the data_collection folder\n",
    "- load all json from other investigators\n",
    "- merge config dataframes "
   ]
  },
  {
   "cell_type": "code",
   "execution_count": null,
   "id": "8c04a161-333a-4e93-bc51-1ea4b1d22d95",
   "metadata": {},
   "outputs": [],
   "source": [
    "dict_config = utils.prepare_and_save_config(name, config, paths)\n",
    "\n",
    "df_config_list = utils.load_all_json_configs(paths)\n",
    "\n",
    "df_configs_all = pd.concat(df_config_list).set_index('name').T"
   ]
  },
  {
   "cell_type": "markdown",
   "id": "8faf4fa0-1902-4e92-b818-c3413e0a66f1",
   "metadata": {},
   "source": [
    "Table containing the configurations of all investigators"
   ]
  },
  {
   "cell_type": "code",
   "execution_count": null,
   "id": "75bb2a8e-586c-4efd-a22f-db3f76853fbe",
   "metadata": {},
   "outputs": [],
   "source": [
    "df_configs_all\n"
   ]
  },
  {
   "cell_type": "code",
   "execution_count": null,
   "id": "c6c6406e-150f-4d00-baa7-7dca4ffc1c35",
   "metadata": {},
   "outputs": [],
   "source": []
  },
  {
   "cell_type": "code",
   "execution_count": null,
   "id": "59912283-20dd-4580-a73c-52a9681c076d",
   "metadata": {},
   "outputs": [],
   "source": []
  },
  {
   "cell_type": "code",
   "execution_count": null,
   "id": "68f7f7d5-6bcd-4a6c-b377-5b32f491a6aa",
   "metadata": {},
   "outputs": [],
   "source": []
  },
  {
   "cell_type": "code",
   "execution_count": null,
   "id": "7e93a311-3984-46c0-ab50-486cf3bb8afa",
   "metadata": {},
   "outputs": [],
   "source": []
  },
  {
   "cell_type": "code",
   "execution_count": null,
   "id": "beb5e59b-f960-4445-95e3-a0400dae6990",
   "metadata": {},
   "outputs": [],
   "source": []
  },
  {
   "cell_type": "code",
   "execution_count": null,
   "id": "2c788683-15cd-4141-aa29-08f05f1fb3b2",
   "metadata": {},
   "outputs": [],
   "source": []
  }
 ],
 "metadata": {
  "kernelspec": {
   "display_name": "Python 3 (ipykernel)",
   "language": "python",
   "name": "python3"
  },
  "language_info": {
   "codemirror_mode": {
    "name": "ipython",
    "version": 3
   },
   "file_extension": ".py",
   "mimetype": "text/x-python",
   "name": "python",
   "nbconvert_exporter": "python",
   "pygments_lexer": "ipython3",
   "version": "3.12.5"
  }
 },
 "nbformat": 4,
 "nbformat_minor": 5
}
